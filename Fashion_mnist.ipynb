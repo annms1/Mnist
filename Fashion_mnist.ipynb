{
  "nbformat": 4,
  "nbformat_minor": 0,
  "metadata": {
    "colab": {
      "name": "fashion_mnist.ipynb",
      "provenance": [],
      "collapsed_sections": [],
      "authorship_tag": "ABX9TyM8e6I6lD4rny3b+HGXAkx6",
      "include_colab_link": true
    },
    "kernelspec": {
      "name": "python3",
      "display_name": "Python 3"
    },
    "language_info": {
      "name": "python"
    },
    "accelerator": "GPU"
  },
  "cells": [
    {
      "cell_type": "markdown",
      "metadata": {
        "id": "view-in-github",
        "colab_type": "text"
      },
      "source": [
        "<a href=\"https://colab.research.google.com/github/annms1/Mnist/blob/main/Fashion_mnist.ipynb\" target=\"_parent\"><img src=\"https://colab.research.google.com/assets/colab-badge.svg\" alt=\"Open In Colab\"/></a>"
      ]
    },
    {
      "cell_type": "code",
      "source": [
        "!pip install eli5"
      ],
      "metadata": {
        "colab": {
          "base_uri": "https://localhost:8080/"
        },
        "id": "p9Jt939eMIte",
        "outputId": "758fccbb-d6b2-4f4c-f7a3-2d1dd2fcfcba"
      },
      "execution_count": 24,
      "outputs": [
        {
          "output_type": "stream",
          "name": "stdout",
          "text": [
            "Requirement already satisfied: eli5 in /usr/local/lib/python3.7/dist-packages (0.11.0)\n",
            "Requirement already satisfied: graphviz in /usr/local/lib/python3.7/dist-packages (from eli5) (0.10.1)\n",
            "Requirement already satisfied: numpy>=1.9.0 in /usr/local/lib/python3.7/dist-packages (from eli5) (1.19.5)\n",
            "Requirement already satisfied: tabulate>=0.7.7 in /usr/local/lib/python3.7/dist-packages (from eli5) (0.8.9)\n",
            "Requirement already satisfied: six in /usr/local/lib/python3.7/dist-packages (from eli5) (1.15.0)\n",
            "Requirement already satisfied: attrs>16.0.0 in /usr/local/lib/python3.7/dist-packages (from eli5) (21.4.0)\n",
            "Requirement already satisfied: jinja2 in /usr/local/lib/python3.7/dist-packages (from eli5) (2.11.3)\n",
            "Requirement already satisfied: scikit-learn>=0.20 in /usr/local/lib/python3.7/dist-packages (from eli5) (1.0.2)\n",
            "Requirement already satisfied: scipy in /usr/local/lib/python3.7/dist-packages (from eli5) (1.4.1)\n",
            "Requirement already satisfied: joblib>=0.11 in /usr/local/lib/python3.7/dist-packages (from scikit-learn>=0.20->eli5) (1.1.0)\n",
            "Requirement already satisfied: threadpoolctl>=2.0.0 in /usr/local/lib/python3.7/dist-packages (from scikit-learn>=0.20->eli5) (3.0.0)\n",
            "Requirement already satisfied: MarkupSafe>=0.23 in /usr/local/lib/python3.7/dist-packages (from jinja2->eli5) (2.0.1)\n"
          ]
        }
      ]
    },
    {
      "cell_type": "code",
      "metadata": {
        "id": "N7K7tY1GDrYY"
      },
      "source": [
        "import tensorflow as tf\n",
        "import matplotlib.pyplot as plt\n",
        "import numpy as np\n",
        "from sklearn.metrics import classification_report, confusion_matrix\n",
        "from keras.callbacks import LearningRateScheduler\n",
        "import eli5 "
      ],
      "execution_count": 25,
      "outputs": []
    },
    {
      "cell_type": "code",
      "metadata": {
        "colab": {
          "base_uri": "https://localhost:8080/"
        },
        "id": "eYYhvyuKiGaU",
        "outputId": "c777d52e-0152-4fde-add4-8841abc19a35"
      },
      "source": [
        "print(tf.__version__)"
      ],
      "execution_count": 26,
      "outputs": [
        {
          "output_type": "stream",
          "name": "stdout",
          "text": [
            "2.7.0\n"
          ]
        }
      ]
    },
    {
      "cell_type": "code",
      "metadata": {
        "id": "JcxuohPedY7n"
      },
      "source": [
        "mnist = tf.keras.datasets.fashion_mnist"
      ],
      "execution_count": 27,
      "outputs": []
    },
    {
      "cell_type": "code",
      "metadata": {
        "id": "ZxW5V1Uaicny"
      },
      "source": [
        "\n",
        "(train_img, train_labels), (test_img, test_labels) = mnist.load_data()"
      ],
      "execution_count": 28,
      "outputs": []
    },
    {
      "cell_type": "code",
      "metadata": {
        "id": "LkO5Cc4sjD84"
      },
      "source": [
        "train_img = train_img/255.0\n",
        "test_img = test_img/255.0"
      ],
      "execution_count": 29,
      "outputs": []
    },
    {
      "cell_type": "code",
      "metadata": {
        "colab": {
          "base_uri": "https://localhost:8080/"
        },
        "id": "K0Hb7u4qkKn7",
        "outputId": "54b8d7c4-76a0-417d-8e42-e903dbcaade9"
      },
      "source": [
        "len(train_img)"
      ],
      "execution_count": 30,
      "outputs": [
        {
          "output_type": "execute_result",
          "data": {
            "text/plain": [
              "60000"
            ]
          },
          "metadata": {},
          "execution_count": 30
        }
      ]
    },
    {
      "cell_type": "code",
      "metadata": {
        "id": "Szkvj0qJkTuF"
      },
      "source": [
        "class_names = [\"T-shirt/top\", \"Trouser\", \"Pullover\", \"Dress\", \"Coat\", \"Sandal\", \"Shirt\", \"Sneaker\", \"Bag\", \"Ankle boot\"]"
      ],
      "execution_count": 31,
      "outputs": []
    },
    {
      "cell_type": "code",
      "metadata": {
        "colab": {
          "base_uri": "https://localhost:8080/",
          "height": 269
        },
        "id": "MqF8ujUpJLol",
        "outputId": "e312b890-0713-4ba3-8507-a13615e5806a"
      },
      "source": [
        "plt.figure()\n",
        "plt.imshow(train_img[0], cmap=plt.cm.binary)\n",
        "plt.colorbar()\n",
        "plt.gca().grid(False)"
      ],
      "execution_count": 32,
      "outputs": [
        {
          "output_type": "display_data",
          "data": {
            "image/png": "[encoded data removed]",
            "text/plain": [
              "<Figure size 432x288 with 2 Axes>"
            ]
          },
          "metadata": {
            "needs_background": "light"
          }
        }
      ]
    },
    {
      "cell_type": "code",
      "metadata": {
        "colab": {
          "base_uri": "https://localhost:8080/",
          "height": 589
        },
        "id": "KL_ZqALMIxVl",
        "outputId": "25b53f83-90ae-4548-8983-24c84d9d9bf3"
      },
      "source": [
        "plt.figure(figsize=(10, 10))\n",
        "for i in range(25):\n",
        "  plt.subplot(5, 5, i + 1)\n",
        "  plt.grid(False)\n",
        "  plt.xticks([])\n",
        "  plt.yticks([])\n",
        "  plt.imshow(train_img[i], cmap=plt.cm.binary)\n",
        "  plt.xlabel(class_names[train_labels[i]])"
      ],
      "execution_count": 33,
      "outputs": [
        {
          "output_type": "display_data",
          "data": {
            "image/png": "[encoded data removed]",
            "text/plain": [
              "<Figure size 720x720 with 25 Axes>"
            ]
          },
          "metadata": {}
        }
      ]
    },
    {
      "cell_type": "code",
      "metadata": {
        "id": "ZNz_ZgfuGWKP",
        "colab": {
          "base_uri": "https://localhost:8080/"
        },
        "outputId": "7a74bae8-cc7c-4f49-f632-8eebfc3cfee3"
      },
      "source": [
        "\n",
        "train_img.shape"
      ],
      "execution_count": 34,
      "outputs": [
        {
          "output_type": "execute_result",
          "data": {
            "text/plain": [
              "(60000, 28, 28)"
            ]
          },
          "metadata": {},
          "execution_count": 34
        }
      ]
    },
    {
      "cell_type": "code",
      "metadata": {
        "id": "1Is74OaPHOcl"
      },
      "source": [
        "def model_predictions(model, test_img, sub1, sub2):\n",
        "    ls = []\n",
        "    pred = model.predict(test_img[sub1:sub2])\n",
        "    for i in range(sub1, sub2):\n",
        "      ls.append(class_names[np.argmax(pred[i])])\n",
        "    return ls"
      ],
      "execution_count": 35,
      "outputs": []
    },
    {
      "cell_type": "code",
      "metadata": {
        "id": "vxq0lgPMHr8y"
      },
      "source": [
        "def listing(range_1, range_2, labels):\n",
        "    ls = []\n",
        "    for i in range(range_1, range_2):\n",
        "      ls.append(labels[i])\n",
        "      print(class_names[ls[i]])\n",
        "    return"
      ],
      "execution_count": 36,
      "outputs": []
    },
    {
      "cell_type": "code",
      "source": [
        "listing(0, 20, test_labels)"
      ],
      "metadata": {
        "colab": {
          "base_uri": "https://localhost:8080/"
        },
        "id": "zKZTj3TYypJT",
        "outputId": "a3f60dd3-438f-4e59-831f-2b648f703618"
      },
      "execution_count": 37,
      "outputs": [
        {
          "output_type": "stream",
          "name": "stdout",
          "text": [
            "Ankle boot\n",
            "Pullover\n",
            "Trouser\n",
            "Trouser\n",
            "Shirt\n",
            "Trouser\n",
            "Coat\n",
            "Shirt\n",
            "Sandal\n",
            "Sneaker\n",
            "Coat\n",
            "Sandal\n",
            "Sneaker\n",
            "Dress\n",
            "Coat\n",
            "Trouser\n",
            "Pullover\n",
            "Coat\n",
            "Bag\n",
            "T-shirt/top\n"
          ]
        }
      ]
    },
    {
      "cell_type": "code",
      "metadata": {
        "id": "JX1M8PdcIqEP",
        "colab": {
          "base_uri": "https://localhost:8080/",
          "height": 36
        },
        "outputId": "46e47f00-105f-4f70-c7ba-85494d016b10"
      },
      "source": [
        "\n",
        "class_names[test_labels[0]]"
      ],
      "execution_count": 38,
      "outputs": [
        {
          "output_type": "execute_result",
          "data": {
            "application/vnd.google.colaboratory.intrinsic+json": {
              "type": "string"
            },
            "text/plain": [
              "'Ankle boot'"
            ]
          },
          "metadata": {},
          "execution_count": 38
        }
      ]
    },
    {
      "cell_type": "code",
      "metadata": {
        "id": "TGYyb5BjIyH0",
        "colab": {
          "base_uri": "https://localhost:8080/",
          "height": 284
        },
        "outputId": "68534a49-8aa4-4f06-e1d1-0a3fc964913c"
      },
      "source": [
        "plt.imshow(test_img[0], cmap=plt.cm.binary)"
      ],
      "execution_count": 39,
      "outputs": [
        {
          "output_type": "execute_result",
          "data": {
            "text/plain": [
              "<matplotlib.image.AxesImage at 0x7fc3b63c0c90>"
            ]
          },
          "metadata": {},
          "execution_count": 39
        },
        {
          "output_type": "display_data",
          "data": {
            "image/png": "[encoded data removed]",
            "text/plain": [
              "<Figure size 432x288 with 1 Axes>"
            ]
          },
          "metadata": {
            "needs_background": "light"
          }
        }
      ]
    },
    {
      "cell_type": "code",
      "metadata": {
        "id": "F5nDS0vwzSoQ",
        "colab": {
          "base_uri": "https://localhost:8080/",
          "height": 284
        },
        "outputId": "e3123282-ed13-41ff-b557-e3abcd245c5a"
      },
      "source": [
        "plt.imshow(train_img[2], cmap=plt.cm.binary)\n",
        "print(class_names[train_labels[2]])"
      ],
      "execution_count": 40,
      "outputs": [
        {
          "output_type": "stream",
          "name": "stdout",
          "text": [
            "T-shirt/top\n"
          ]
        },
        {
          "output_type": "display_data",
          "data": {
            "image/png": "[encoded data removed]",
            "text/plain": [
              "<Figure size 432x288 with 1 Axes>"
            ]
          },
          "metadata": {
            "needs_background": "light"
          }
        }
      ]
    },
    {
      "cell_type": "code",
      "metadata": {
        "id": "ITRvTN_Da69N"
      },
      "source": [
        "def get_lr(init_lr, lr_decay, name):\n",
        "    def exp_decay(epoch):\n",
        "        lr = init_lr * np.exp(-lr_decay * epoch)\n",
        "        return lr\n",
        "    lr_sche = LearningRateScheduler(exp_decay)\n",
        "    name = [lr_sche]\n",
        "    return name"
      ],
      "execution_count": 41,
      "outputs": []
    },
    {
      "cell_type": "code",
      "metadata": {
        "id": "0zo7NigEACvK",
        "colab": {
          "base_uri": "https://localhost:8080/"
        },
        "outputId": "b3e8d96f-a755-46aa-8a0d-cae874256d05"
      },
      "source": [
        "tf.random.set_seed(30)\n",
        "\n",
        "model_1 = tf.keras.Sequential([\n",
        "                             tf.keras.layers.Flatten(),\n",
        "                             tf.keras.layers.Dense(100, activation=tf.nn.relu),\n",
        "                             tf.keras.layers.Dense(64, activation=tf.nn.relu),\n",
        "                             tf.keras.layers.Dense(10, activation=tf.nn.softmax)\n",
        "])\n",
        "\n",
        "model_1.compile(loss=tf.keras.losses.SparseCategoricalCrossentropy(),\n",
        "              optimizer=tf.keras.optimizers.Adam(),\n",
        "              metrics=[\"accuracy\"])\n",
        "\n",
        "history_1 = model_1.fit(train_img, train_labels, epochs=8, validation_data=(test_img, test_labels), callbacks=get_lr(0.0015, 0.04, \"callback_1\"))"
      ],
      "execution_count": 42,
      "outputs": [
        {
          "output_type": "stream",
          "name": "stdout",
          "text": [
            "Epoch 1/8\n",
            "1875/1875 [==============================] - 5s 3ms/step - loss: 0.4965 - accuracy: 0.8210 - val_loss: 0.4393 - val_accuracy: 0.8390 - lr: 0.0015\n",
            "Epoch 2/8\n",
            "1875/1875 [==============================] - 5s 3ms/step - loss: 0.3698 - accuracy: 0.8640 - val_loss: 0.3950 - val_accuracy: 0.8597 - lr: 0.0014\n",
            "Epoch 3/8\n",
            "1875/1875 [==============================] - 5s 2ms/step - loss: 0.3324 - accuracy: 0.8773 - val_loss: 0.3844 - val_accuracy: 0.8620 - lr: 0.0014\n",
            "Epoch 4/8\n",
            "1875/1875 [==============================] - 5s 3ms/step - loss: 0.3131 - accuracy: 0.8839 - val_loss: 0.3475 - val_accuracy: 0.8753 - lr: 0.0013\n",
            "Epoch 5/8\n",
            "1875/1875 [==============================] - 5s 3ms/step - loss: 0.2926 - accuracy: 0.8912 - val_loss: 0.3564 - val_accuracy: 0.8689 - lr: 0.0013\n",
            "Epoch 6/8\n",
            "1875/1875 [==============================] - 5s 2ms/step - loss: 0.2795 - accuracy: 0.8962 - val_loss: 0.3396 - val_accuracy: 0.8781 - lr: 0.0012\n",
            "Epoch 7/8\n",
            "1875/1875 [==============================] - 5s 2ms/step - loss: 0.2636 - accuracy: 0.9015 - val_loss: 0.3361 - val_accuracy: 0.8774 - lr: 0.0012\n",
            "Epoch 8/8\n",
            "1875/1875 [==============================] - 5s 3ms/step - loss: 0.2545 - accuracy: 0.9047 - val_loss: 0.3338 - val_accuracy: 0.8809 - lr: 0.0011\n"
          ]
        }
      ]
    },
    {
      "cell_type": "code",
      "metadata": {
        "id": "hnL0huvyFrj3",
        "colab": {
          "base_uri": "https://localhost:8080/"
        },
        "outputId": "daf33d3e-f961-4607-9c61-f83ec25b0bcb"
      },
      "source": [
        "test_loss, test_acc = model_1.evaluate(test_img, test_labels)"
      ],
      "execution_count": 43,
      "outputs": [
        {
          "output_type": "stream",
          "name": "stdout",
          "text": [
            "313/313 [==============================] - 1s 2ms/step - loss: 0.3338 - accuracy: 0.8809\n"
          ]
        }
      ]
    },
    {
      "cell_type": "code",
      "source": [
        "history_1.history.keys()"
      ],
      "metadata": {
        "colab": {
          "base_uri": "https://localhost:8080/"
        },
        "id": "PQ05cuW2o6KH",
        "outputId": "99164024-65ae-4adb-885c-9387c3668ce4"
      },
      "execution_count": 44,
      "outputs": [
        {
          "output_type": "execute_result",
          "data": {
            "text/plain": [
              "dict_keys(['loss', 'accuracy', 'val_loss', 'val_accuracy', 'lr'])"
            ]
          },
          "metadata": {},
          "execution_count": 44
        }
      ]
    },
    {
      "cell_type": "code",
      "source": [
        "plt.figure(figsize=(8, 7))\n",
        "plt.plot(history_1.history[\"loss\"], history_1.history[\"lr\"])\n",
        "plt.plot(history_1.history[\"val_loss\"], history_1.history[\"lr\"])\n",
        "plt.show()"
      ],
      "metadata": {
        "colab": {
          "base_uri": "https://localhost:8080/",
          "height": 428
        },
        "id": "st4QUlj_phG_",
        "outputId": "b640df4b-11be-4397-8369-84ec516df720"
      },
      "execution_count": 45,
      "outputs": [
        {
          "output_type": "display_data",
          "data": {
            "image/png": "[encoded data removed]",
            "text/plain": [
              "<Figure size 576x504 with 1 Axes>"
            ]
          },
          "metadata": {
            "needs_background": "light"
          }
        }
      ]
    },
    {
      "cell_type": "code",
      "metadata": {
        "id": "PpLAQp03cRYQ",
        "colab": {
          "base_uri": "https://localhost:8080/"
        },
        "outputId": "74b986fd-b8b7-4f46-f977-2c5f8f3be9ff"
      },
      "source": [
        "tf.random.set_seed(30)\n",
        "\n",
        "cnn = tf.keras.Sequential()\n",
        "cnn.add(tf.keras.layers.Conv2D(32, (3, 3), input_shape=(28, 28, 1), activation=\"relu\"))\n",
        "\n",
        "cnn.add(tf.keras.layers.MaxPooling2D(pool_size=(2,2)))\n",
        "\n",
        "cnn.add(tf.keras.layers.Conv2D(32, (2, 2), activation=\"relu\"))\n",
        "\n",
        "cnn.add(tf.keras.layers.Flatten())\n",
        "cnn.add(tf.keras.layers.Dense(100, activation=\"relu\"))\n",
        "cnn.add(tf.keras.layers.Dense(64, activation=\"relu\"))\n",
        "cnn.add(tf.keras.layers.Dense(10, activation=\"softmax\"))\n",
        "\n",
        "cnn.compile(loss=tf.keras.losses.sparse_categorical_crossentropy,\n",
        "            optimizer=tf.keras.optimizers.Adam(),\n",
        "            metrics=[\"accuracy\"])\n",
        "\n",
        "history_2 = cnn.fit(train_img, train_labels, batch_size=32, epochs=8, validation_data=(test_img, test_labels), callbacks=get_lr(0.0012, 0.027, \"callback_2\"))"
      ],
      "execution_count": 46,
      "outputs": [
        {
          "output_type": "stream",
          "name": "stdout",
          "text": [
            "Epoch 1/8\n",
            "1875/1875 [==============================] - 14s 4ms/step - loss: 0.4039 - accuracy: 0.8537 - val_loss: 0.3434 - val_accuracy: 0.8743 - lr: 0.0012\n",
            "Epoch 2/8\n",
            "1875/1875 [==============================] - 7s 4ms/step - loss: 0.2639 - accuracy: 0.9024 - val_loss: 0.2733 - val_accuracy: 0.8972 - lr: 0.0012\n",
            "Epoch 3/8\n",
            "1875/1875 [==============================] - 7s 4ms/step - loss: 0.2156 - accuracy: 0.9205 - val_loss: 0.2602 - val_accuracy: 0.9058 - lr: 0.0011\n",
            "Epoch 4/8\n",
            "1875/1875 [==============================] - 7s 3ms/step - loss: 0.1812 - accuracy: 0.9324 - val_loss: 0.2592 - val_accuracy: 0.9092 - lr: 0.0011\n",
            "Epoch 5/8\n",
            "1875/1875 [==============================] - 7s 3ms/step - loss: 0.1524 - accuracy: 0.9429 - val_loss: 0.2392 - val_accuracy: 0.9145 - lr: 0.0011\n",
            "Epoch 6/8\n",
            "1875/1875 [==============================] - 7s 3ms/step - loss: 0.1252 - accuracy: 0.9532 - val_loss: 0.2556 - val_accuracy: 0.9205 - lr: 0.0010\n",
            "Epoch 7/8\n",
            "1875/1875 [==============================] - 7s 4ms/step - loss: 0.1032 - accuracy: 0.9611 - val_loss: 0.2954 - val_accuracy: 0.9166 - lr: 0.0010\n",
            "Epoch 8/8\n",
            "1875/1875 [==============================] - 7s 4ms/step - loss: 0.0838 - accuracy: 0.9679 - val_loss: 0.3046 - val_accuracy: 0.9225 - lr: 9.9334e-04\n"
          ]
        }
      ]
    },
    {
      "cell_type": "code",
      "metadata": {
        "colab": {
          "base_uri": "https://localhost:8080/"
        },
        "id": "tem_jIxbLXcx",
        "outputId": "148fccd3-4436-41ba-a4d3-290a2a5aa723"
      },
      "source": [
        "test_loss, test_acc = cnn.evaluate(test_img, test_labels)"
      ],
      "execution_count": 47,
      "outputs": [
        {
          "output_type": "stream",
          "name": "stdout",
          "text": [
            "313/313 [==============================] - 1s 3ms/step - loss: 0.3046 - accuracy: 0.9225\n"
          ]
        }
      ]
    },
    {
      "cell_type": "code",
      "source": [
        "model_predictions(cnn, test_img, 0, 20), listing(0, 20, test_labels)"
      ],
      "metadata": {
        "colab": {
          "base_uri": "https://localhost:8080/"
        },
        "id": "NRGzO3vayZ5n",
        "outputId": "657b05ff-3804-4e16-cdd3-c6597aca0e37"
      },
      "execution_count": 53,
      "outputs": [
        {
          "output_type": "stream",
          "name": "stdout",
          "text": [
            "Ankle boot\n",
            "Pullover\n",
            "Trouser\n",
            "Trouser\n",
            "Shirt\n",
            "Trouser\n",
            "Coat\n",
            "Shirt\n",
            "Sandal\n",
            "Sneaker\n",
            "Coat\n",
            "Sandal\n",
            "Sneaker\n",
            "Dress\n",
            "Coat\n",
            "Trouser\n",
            "Pullover\n",
            "Coat\n",
            "Bag\n",
            "T-shirt/top\n"
          ]
        },
        {
          "output_type": "execute_result",
          "data": {
            "text/plain": [
              "(['Ankle boot',\n",
              "  'Pullover',\n",
              "  'Trouser',\n",
              "  'Trouser',\n",
              "  'Shirt',\n",
              "  'Trouser',\n",
              "  'Coat',\n",
              "  'Shirt',\n",
              "  'Sandal',\n",
              "  'Sneaker',\n",
              "  'Coat',\n",
              "  'Sandal',\n",
              "  'Sandal',\n",
              "  'Dress',\n",
              "  'Coat',\n",
              "  'Trouser',\n",
              "  'Pullover',\n",
              "  'Shirt',\n",
              "  'Bag',\n",
              "  'T-shirt/top'],\n",
              " None)"
            ]
          },
          "metadata": {},
          "execution_count": 53
        }
      ]
    },
    {
      "cell_type": "code",
      "source": [
        "history_2.history.keys()"
      ],
      "metadata": {
        "colab": {
          "base_uri": "https://localhost:8080/"
        },
        "id": "2pJTiqpFwrcb",
        "outputId": "9dc070cc-10cc-4530-e4a6-c58b860395ed"
      },
      "execution_count": 49,
      "outputs": [
        {
          "output_type": "execute_result",
          "data": {
            "text/plain": [
              "dict_keys(['loss', 'accuracy', 'val_loss', 'val_accuracy', 'lr'])"
            ]
          },
          "metadata": {},
          "execution_count": 49
        }
      ]
    },
    {
      "cell_type": "code",
      "source": [
        "plt.figure(figsize=(9, 8))\n",
        "plt.plot(history_2.history[\"lr\"], history_2.history[\"loss\"])\n",
        "plt.plot(history_2.history[\"lr\"], history_2.history[\"val_loss\"])\n",
        "plt.show()"
      ],
      "metadata": {
        "colab": {
          "base_uri": "https://localhost:8080/",
          "height": 483
        },
        "id": "Sk8wlEL8w1-U",
        "outputId": "28c475f0-634a-4158-ed84-5c53efe9f95a"
      },
      "execution_count": 50,
      "outputs": [
        {
          "output_type": "display_data",
          "data": {
            "image/png": "[encoded data removed]",
            "text/plain": [
              "<Figure size 648x576 with 1 Axes>"
            ]
          },
          "metadata": {
            "needs_background": "light"
          }
        }
      ]
    }
  ]
}